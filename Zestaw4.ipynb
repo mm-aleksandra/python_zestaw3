{
 "cells": [
  {
   "cell_type": "markdown",
   "id": "9945c635",
   "metadata": {},
   "source": [
    "### Zadanie 4.2"
   ]
  },
  {
   "cell_type": "code",
   "execution_count": 77,
   "id": "06532028",
   "metadata": {},
   "outputs": [],
   "source": [
    "def make_ruler(x):\n",
    "    nums = [str(num).rjust(5) for num in range(1, x + 1)]\n",
    "    top = '....'.join('|'*(x + 1))\n",
    "    bottom = '0' + ''.join(nums)\n",
    "    return top + '\\n' + bottom"
   ]
  },
  {
   "cell_type": "code",
   "execution_count": 78,
   "id": "2eba7148",
   "metadata": {},
   "outputs": [
    {
     "name": "stdout",
     "output_type": "stream",
     "text": [
      "|....|....|....|....|....|....|....|....|....|....|....|....|....|....|....|\n",
      "0    1    2    3    4    5    6    7    8    9   10   11   12   13   14   15\n"
     ]
    }
   ],
   "source": [
    "print(make_ruler(15))"
   ]
  },
  {
   "cell_type": "code",
   "execution_count": 79,
   "id": "c144bb1c",
   "metadata": {},
   "outputs": [],
   "source": [
    "def make_grid(rows, columns):\n",
    "    fig = ''\n",
    "    for i in range(rows):\n",
    "        fig += '---'.join('+' * (columns + 1)) + '\\n'\n",
    "        fig += '   '.join('|' * (columns + 1)) + '\\n'\n",
    "    if rows > 0:\n",
    "        fig += '---'.join('+' * (columns + 1)) + '\\n'\n",
    "    return fig"
   ]
  },
  {
   "cell_type": "code",
   "execution_count": 80,
   "id": "1996d9d8",
   "metadata": {},
   "outputs": [
    {
     "name": "stdout",
     "output_type": "stream",
     "text": [
      "+---+---+---+---+\n",
      "|   |   |   |   |\n",
      "+---+---+---+---+\n",
      "|   |   |   |   |\n",
      "+---+---+---+---+\n",
      "\n",
      "+---+\n",
      "|   |\n",
      "+---+\n",
      "|   |\n",
      "+---+\n",
      "|   |\n",
      "+---+\n",
      "\n"
     ]
    }
   ],
   "source": [
    "print(make_grid(2,4))\n",
    "print(make_grid(3,1))"
   ]
  },
  {
   "cell_type": "markdown",
   "id": "e3a7c1cf",
   "metadata": {},
   "source": [
    "### Zadanie 4.3"
   ]
  },
  {
   "cell_type": "code",
   "execution_count": 81,
   "id": "07564e30",
   "metadata": {},
   "outputs": [],
   "source": [
    "from functools import reduce\n",
    "\n",
    "def factorial(n):\n",
    "    return reduce(lambda x, y: x*y, [1,1] if n == 0 else range(1, n+1))"
   ]
  },
  {
   "cell_type": "code",
   "execution_count": 82,
   "id": "8c15f7df",
   "metadata": {},
   "outputs": [
    {
     "name": "stdout",
     "output_type": "stream",
     "text": [
      "Factorial 0: 1\n",
      "Factorial 1: 1\n",
      "Factorial 2: 2\n",
      "Factorial 3: 6\n",
      "Factorial 4: 24\n",
      "Factorial 5: 120\n",
      "Factorial 6: 720\n",
      "Factorial 7: 5040\n",
      "Factorial 8: 40320\n",
      "Factorial 9: 362880\n",
      "Factorial 10: 3628800\n"
     ]
    }
   ],
   "source": [
    "for i in range(11):\n",
    "    print(f'Factorial {i}: {factorial(i)}')"
   ]
  },
  {
   "cell_type": "markdown",
   "id": "38baf92f",
   "metadata": {},
   "source": [
    "### Zadanie 4.4"
   ]
  },
  {
   "cell_type": "code",
   "execution_count": 83,
   "id": "b1a1de02",
   "metadata": {},
   "outputs": [],
   "source": [
    "def fibonacci(n):\n",
    "    if n == 0 or n == 1: \n",
    "        return n\n",
    "    \n",
    "    fib0 = 0\n",
    "    fib1 = 1\n",
    "    fib = 0\n",
    "    \n",
    "    for i in range(n-1):\n",
    "        fib = fib0 + fib1\n",
    "        fib0 = fib1\n",
    "        fib1 = fib\n",
    "        \n",
    "    return fib"
   ]
  },
  {
   "cell_type": "code",
   "execution_count": 84,
   "id": "98ed6481",
   "metadata": {},
   "outputs": [
    {
     "name": "stdout",
     "output_type": "stream",
     "text": [
      "0th fibonacci number: 0\n",
      "1th fibonacci number: 1\n",
      "2th fibonacci number: 1\n",
      "3th fibonacci number: 2\n",
      "4th fibonacci number: 3\n",
      "5th fibonacci number: 5\n",
      "6th fibonacci number: 8\n",
      "7th fibonacci number: 13\n",
      "8th fibonacci number: 21\n",
      "9th fibonacci number: 34\n",
      "10th fibonacci number: 55\n"
     ]
    }
   ],
   "source": [
    "for i in range(11):\n",
    "    print(f'{i}th fibonacci number: {fibonacci(i)}')"
   ]
  },
  {
   "cell_type": "markdown",
   "id": "a71c7db4",
   "metadata": {},
   "source": [
    "### Zadanie 4.5"
   ]
  },
  {
   "cell_type": "code",
   "execution_count": 85,
   "id": "51faa0b2",
   "metadata": {},
   "outputs": [],
   "source": [
    "def odwracanie(L, left, right):\n",
    "    for i in range(left, (left + right + 1) // 2):\n",
    "        temp = L[i]\n",
    "        L[i] = L[right - (i - left)]\n",
    "        L[right - (i - left)] = temp"
   ]
  },
  {
   "cell_type": "code",
   "execution_count": 86,
   "id": "4f55bbc0",
   "metadata": {},
   "outputs": [
    {
     "data": {
      "text/plain": [
       "[5, 4, 3, 2, 1, 0, 6, 7, 8, 9]"
      ]
     },
     "execution_count": 86,
     "metadata": {},
     "output_type": "execute_result"
    }
   ],
   "source": [
    "lst = [0,1,2,3,4,5,6,7,8,9]\n",
    "odwracanie(lst, 0, 5)\n",
    "lst"
   ]
  },
  {
   "cell_type": "code",
   "execution_count": 87,
   "id": "bb101507",
   "metadata": {},
   "outputs": [
    {
     "data": {
      "text/plain": [
       "[0, 1, 6, 5, 4, 3, 2, 7, 8, 9]"
      ]
     },
     "execution_count": 87,
     "metadata": {},
     "output_type": "execute_result"
    }
   ],
   "source": [
    "lst = [0,1,2,3,4,5,6,7,8,9]\n",
    "odwracanie(lst, 2, 6)\n",
    "lst"
   ]
  },
  {
   "cell_type": "code",
   "execution_count": 88,
   "id": "611de2aa",
   "metadata": {},
   "outputs": [],
   "source": [
    "def rec_odwracanie(L, left, right):\n",
    "    if left >= right: return\n",
    "    temp = L[left]\n",
    "    L[left] = L[right]\n",
    "    L[right] = temp\n",
    "    return rec_odwracanie(L, left + 1, right - 1)"
   ]
  },
  {
   "cell_type": "code",
   "execution_count": 89,
   "id": "6b5d5988",
   "metadata": {},
   "outputs": [
    {
     "data": {
      "text/plain": [
       "[0, 1, 6, 5, 4, 3, 2, 7, 8, 9]"
      ]
     },
     "execution_count": 89,
     "metadata": {},
     "output_type": "execute_result"
    }
   ],
   "source": [
    "lst = [0,1,2,3,4,5,6,7,8,9]\n",
    "rec_odwracanie(lst, 2, 6)\n",
    "lst"
   ]
  },
  {
   "cell_type": "code",
   "execution_count": 90,
   "id": "06581b53",
   "metadata": {},
   "outputs": [
    {
     "data": {
      "text/plain": [
       "[0, 9, 8, 7, 6, 5, 4, 3, 2, 1]"
      ]
     },
     "execution_count": 90,
     "metadata": {},
     "output_type": "execute_result"
    }
   ],
   "source": [
    "lst = [0,1,2,3,4,5,6,7,8,9]\n",
    "rec_odwracanie(lst, 1, 9)\n",
    "lst"
   ]
  },
  {
   "cell_type": "code",
   "execution_count": 91,
   "id": "e9114abf",
   "metadata": {},
   "outputs": [
    {
     "data": {
      "text/plain": [
       "[3, 2, 1, 0, 4, 5, 6, 7, 8, 9]"
      ]
     },
     "execution_count": 91,
     "metadata": {},
     "output_type": "execute_result"
    }
   ],
   "source": [
    "lst = [0,1,2,3,4,5,6,7,8,9]\n",
    "rec_odwracanie(lst, 0, 3)\n",
    "lst"
   ]
  },
  {
   "cell_type": "markdown",
   "id": "3d38cee9",
   "metadata": {},
   "source": [
    "### Zadanie 4.6"
   ]
  },
  {
   "cell_type": "code",
   "execution_count": 92,
   "id": "f2767ba9",
   "metadata": {},
   "outputs": [],
   "source": [
    "def sum_items(items):\n",
    "    s = 0\n",
    "    for item in items:\n",
    "        if not isinstance(item, (list, tuple)):\n",
    "            s += item\n",
    "        else: s += sum_items(item)\n",
    "    return s"
   ]
  },
  {
   "cell_type": "code",
   "execution_count": 93,
   "id": "5886fc89",
   "metadata": {},
   "outputs": [
    {
     "data": {
      "text/plain": [
       "106"
      ]
     },
     "execution_count": 93,
     "metadata": {},
     "output_type": "execute_result"
    }
   ],
   "source": [
    "sum_items((3,2,(1,[82,2,3,(2)]),(3,[3,2,2,(1)])))"
   ]
  },
  {
   "cell_type": "markdown",
   "id": "ee4d9f06",
   "metadata": {},
   "source": [
    "### Zadanie 4.7"
   ]
  },
  {
   "cell_type": "code",
   "execution_count": 94,
   "id": "40df16d1",
   "metadata": {},
   "outputs": [],
   "source": [
    "def flatten(sequence):\n",
    "    result = []\n",
    "    for item in sequence:\n",
    "        if not isinstance(item, (list, tuple)):\n",
    "            result.append(item)\n",
    "        else: result.extend(flatten(item))\n",
    "    return result\n"
   ]
  },
  {
   "cell_type": "code",
   "execution_count": 95,
   "id": "a973a1f2",
   "metadata": {},
   "outputs": [
    {
     "name": "stdout",
     "output_type": "stream",
     "text": [
      "[1, 2, 3, 4, 5, 6, 7, 8, 9]\n"
     ]
    }
   ],
   "source": [
    "print(flatten([1,(2,3),[],[4,(5,6,7)],8,[9]]))"
   ]
  },
  {
   "cell_type": "code",
   "execution_count": null,
   "id": "bf88e19b",
   "metadata": {},
   "outputs": [],
   "source": []
  }
 ],
 "metadata": {
  "kernelspec": {
   "display_name": "Python 3 (ipykernel)",
   "language": "python",
   "name": "python3"
  },
  "language_info": {
   "codemirror_mode": {
    "name": "ipython",
    "version": 3
   },
   "file_extension": ".py",
   "mimetype": "text/x-python",
   "name": "python",
   "nbconvert_exporter": "python",
   "pygments_lexer": "ipython3",
   "version": "3.11.4"
  }
 },
 "nbformat": 4,
 "nbformat_minor": 5
}
