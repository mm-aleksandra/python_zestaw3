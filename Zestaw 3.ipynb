{
 "cells": [
  {
   "cell_type": "markdown",
   "id": "877a013a",
   "metadata": {},
   "source": [
    "### Zadanie 3.1"
   ]
  },
  {
   "cell_type": "code",
   "execution_count": 1,
   "id": "3ac9c549",
   "metadata": {},
   "outputs": [],
   "source": [
    "# poprawny\n",
    "\n",
    "x = 2; y = 3;\n",
    "if (x > y):\n",
    "    result = x;\n",
    "else:\n",
    "    result = y;"
   ]
  },
  {
   "cell_type": "code",
   "execution_count": 2,
   "id": "6fdf5646",
   "metadata": {},
   "outputs": [
    {
     "data": {
      "text/plain": [
       "3"
      ]
     },
     "execution_count": 2,
     "metadata": {},
     "output_type": "execute_result"
    }
   ],
   "source": [
    "result"
   ]
  },
  {
   "cell_type": "code",
   "execution_count": 4,
   "id": "01c52ed7",
   "metadata": {},
   "outputs": [
    {
     "name": "stdout",
     "output_type": "stream",
     "text": [
      "a\n",
      "b\n"
     ]
    }
   ],
   "source": [
    "# for i in \"axby\": if ord(i) < 100: print (i)\n",
    "# niepoprawny, używając if w pętli for trzeba wstawić wcięcie\n",
    "\n",
    "# poprawny kod może wyglądać tak:\n",
    "for i in \"axby\": \n",
    "    if ord(i) < 100: print(i)"
   ]
  },
  {
   "cell_type": "code",
   "execution_count": 5,
   "id": "8f57c937",
   "metadata": {},
   "outputs": [
    {
     "name": "stdout",
     "output_type": "stream",
     "text": [
      "97\n",
      "x\n",
      "98\n",
      "y\n"
     ]
    }
   ],
   "source": [
    "# poprawny\n",
    "\n",
    "for i in \"axby\": print (ord(i) if ord(i) < 100 else i)"
   ]
  },
  {
   "cell_type": "markdown",
   "id": "0e5fab5b",
   "metadata": {},
   "source": [
    "### Zadanie 3.2"
   ]
  },
  {
   "cell_type": "code",
   "execution_count": null,
   "id": "9d10bea2",
   "metadata": {},
   "outputs": [],
   "source": [
    "# L = [3, 5, 4] ; L = L.sort()\n",
    "\n",
    "# L.sort() zwraca None co powoduje, że L = None"
   ]
  },
  {
   "cell_type": "code",
   "execution_count": null,
   "id": "950bac02",
   "metadata": {},
   "outputs": [],
   "source": [
    "# x, y = 1, 2, 3\n",
    "\n",
    "# próba przypisania 3 wartości do 2 zmiennych spowoduje błąd"
   ]
  },
  {
   "cell_type": "code",
   "execution_count": null,
   "id": "7e1a0c50",
   "metadata": {},
   "outputs": [],
   "source": [
    "# X = 1, 2, 3 ; X[1] = 4\n",
    "\n",
    "# Krotka jest niemutowalna w pythonie więc próba zmiany wartości powoduje błąd"
   ]
  },
  {
   "cell_type": "code",
   "execution_count": null,
   "id": "e86937a1",
   "metadata": {},
   "outputs": [],
   "source": [
    "# X = [1, 2, 3] ; X[3] = 4\n",
    "\n",
    "# lista ma 3 elementy więc nie ma indeksu 3, tylko najwyżej 2"
   ]
  },
  {
   "cell_type": "code",
   "execution_count": null,
   "id": "e17b77d2",
   "metadata": {},
   "outputs": [],
   "source": [
    "# X = \"abc\" ; X.append(\"d\")\n",
    "\n",
    "# append nie jest metodą dostępną dla stringów"
   ]
  },
  {
   "cell_type": "code",
   "execution_count": 12,
   "id": "f0a5de70",
   "metadata": {},
   "outputs": [
    {
     "data": {
      "text/plain": [
       "[1, 2, 4, 8, 16, 32, 64, 128]"
      ]
     },
     "execution_count": 12,
     "metadata": {},
     "output_type": "execute_result"
    }
   ],
   "source": [
    "# L = list(map(pow, range(8)))\n",
    "\n",
    "# pow przyjmuje 2 argumenty, więc poprawny kod mógłby wyglądać tak:\n",
    "\n",
    "L = list(map(pow, [2]*8, range(8)))\n",
    "L"
   ]
  },
  {
   "cell_type": "markdown",
   "id": "d0f82b4b",
   "metadata": {},
   "source": [
    "### Zadanie 3.3"
   ]
  },
  {
   "cell_type": "code",
   "execution_count": 13,
   "id": "5c5f8e9c",
   "metadata": {},
   "outputs": [
    {
     "name": "stdout",
     "output_type": "stream",
     "text": [
      "1 2 4 5 7 8 10 11 13 14 16 17 19 20 22 23 25 26 28 29 "
     ]
    }
   ],
   "source": [
    "for num in range(31):\n",
    "    if num % 3 != 0:\n",
    "        print(num, end=' ')\n"
   ]
  },
  {
   "cell_type": "markdown",
   "id": "ce6a312c",
   "metadata": {},
   "source": [
    "### Zadanie 3.4"
   ]
  },
  {
   "cell_type": "code",
   "execution_count": 15,
   "id": "90f0a2ee",
   "metadata": {},
   "outputs": [
    {
     "name": "stdout",
     "output_type": "stream",
     "text": [
      "Podaj liczbę: 1.5\n",
      "1.5\n",
      "3.375 \n",
      "\n",
      "Podaj liczbę: 7.7\n",
      "7.7\n",
      "456.533 \n",
      "\n",
      "Podaj liczbę: 4\n",
      "4.0\n",
      "64.0 \n",
      "\n",
      "Podaj liczbę: abc\n",
      "could not convert string to float: 'abc' \n",
      "\n",
      "Podaj liczbę: 2.5\n",
      "2.5\n",
      "15.625 \n",
      "\n",
      "Podaj liczbę: stop\n"
     ]
    }
   ],
   "source": [
    "while (x := input('Podaj liczbę: ')) != 'stop':\n",
    "    try:\n",
    "        x = float(x)\n",
    "        print(x)\n",
    "        print(pow(x, 3), '\\n')\n",
    "    except Exception as e:\n",
    "        print(e, '\\n')\n"
   ]
  },
  {
   "cell_type": "markdown",
   "id": "d7208cca",
   "metadata": {},
   "source": [
    "### Zadanie 3.5"
   ]
  },
  {
   "cell_type": "code",
   "execution_count": 16,
   "id": "964faea0",
   "metadata": {},
   "outputs": [],
   "source": [
    "def ruler(x):\n",
    "    nums = [str(num).rjust(5) for num in range(1, x + 1)]\n",
    "    print('....'.join('|'*(x + 1)))\n",
    "    print('0' + ''.join(nums))"
   ]
  },
  {
   "cell_type": "code",
   "execution_count": 17,
   "id": "f3bf610d",
   "metadata": {},
   "outputs": [
    {
     "name": "stdout",
     "output_type": "stream",
     "text": [
      "|....|....|....|....|....|....|....|....|....|....|....|....|....|....|....|\n",
      "0    1    2    3    4    5    6    7    8    9   10   11   12   13   14   15\n"
     ]
    }
   ],
   "source": [
    "ruler(15)"
   ]
  },
  {
   "cell_type": "markdown",
   "id": "da4aa731",
   "metadata": {},
   "source": [
    "### Zadanie 3.6"
   ]
  },
  {
   "cell_type": "code",
   "execution_count": 20,
   "id": "5fa8050e",
   "metadata": {},
   "outputs": [],
   "source": [
    "def figure(height, width):\n",
    "    for i in range(height):\n",
    "            print('---'.join('+' * (width + 1)))\n",
    "            print('   '.join('|' * (width + 1)))\n",
    "    if height > 0:\n",
    "        print('---'.join('+' * (width + 1)))              "
   ]
  },
  {
   "cell_type": "code",
   "execution_count": 26,
   "id": "9ca6fa31",
   "metadata": {},
   "outputs": [
    {
     "name": "stdout",
     "output_type": "stream",
     "text": [
      "+---+---+---+---+\n",
      "|   |   |   |   |\n",
      "+---+---+---+---+\n",
      "|   |   |   |   |\n",
      "+---+---+---+---+\n"
     ]
    }
   ],
   "source": [
    "figure(2,4)"
   ]
  },
  {
   "cell_type": "code",
   "execution_count": 27,
   "id": "02a00a04",
   "metadata": {},
   "outputs": [
    {
     "name": "stdout",
     "output_type": "stream",
     "text": [
      "+---+\n",
      "|   |\n",
      "+---+\n"
     ]
    }
   ],
   "source": [
    "figure(1,1)"
   ]
  },
  {
   "cell_type": "markdown",
   "id": "828021fa",
   "metadata": {},
   "source": [
    "### Zadanie 3.8\n"
   ]
  },
  {
   "cell_type": "code",
   "execution_count": 28,
   "id": "4ab549e2",
   "metadata": {},
   "outputs": [
    {
     "name": "stdout",
     "output_type": "stream",
     "text": [
      "['A', '5', '3']\n",
      "['i', 'A', '5', '4', 'b', '3', '2', 'c', 'd', 'p']\n"
     ]
    }
   ],
   "source": [
    "A = \"Abcd43245\"\n",
    "B = \"iiAp35\"\n",
    "print(list(set(A).intersection(set(B))))\n",
    "print(list(set(A).union(set(B))))"
   ]
  },
  {
   "cell_type": "markdown",
   "id": "bc073d15",
   "metadata": {},
   "source": [
    "### Zadanie 3.9"
   ]
  },
  {
   "cell_type": "code",
   "execution_count": 71,
   "id": "dba0d357",
   "metadata": {},
   "outputs": [
    {
     "data": {
      "text/plain": [
       "[0, 4, 3, 7, 18]"
      ]
     },
     "execution_count": 71,
     "metadata": {},
     "output_type": "execute_result"
    }
   ],
   "source": [
    "data = [[],[4],(1,2),[3,4],(5,6,7)]\n",
    "[sum(d) for d in data]"
   ]
  },
  {
   "cell_type": "markdown",
   "id": "4dc23af2",
   "metadata": {},
   "source": [
    "### Zadanie 3.10"
   ]
  },
  {
   "cell_type": "code",
   "execution_count": 29,
   "id": "221ccc56",
   "metadata": {},
   "outputs": [],
   "source": [
    "# I sposób\n",
    "\n",
    "roman_to_arabic = {\n",
    "    'I': 1,\n",
    "    'V': 5,\n",
    "    'X': 10,\n",
    "    'L': 50,\n",
    "    'C': 100,\n",
    "    'D': 500,\n",
    "    'M': 1000\n",
    "}"
   ]
  },
  {
   "cell_type": "code",
   "execution_count": 30,
   "id": "96a79f21",
   "metadata": {},
   "outputs": [],
   "source": [
    "# II sposób\n",
    "\n",
    "roman_numerals = ['I', 'V', 'X', 'L', 'C', 'D', 'M']\n",
    "arabic_numbers = [1, 5, 10, 50, 100, 500, 1000]\n",
    "\n",
    "roman_to_arabic = dict(zip(roman_numerals, arabic_numbers))"
   ]
  },
  {
   "cell_type": "code",
   "execution_count": 33,
   "id": "8dce2da4",
   "metadata": {},
   "outputs": [
    {
     "data": {
      "text/plain": [
       "5"
      ]
     },
     "execution_count": 33,
     "metadata": {},
     "output_type": "execute_result"
    }
   ],
   "source": [
    "roman_to_arabic.get('V')"
   ]
  }
 ],
 "metadata": {
  "kernelspec": {
   "display_name": "Python 3 (ipykernel)",
   "language": "python",
   "name": "python3"
  },
  "language_info": {
   "codemirror_mode": {
    "name": "ipython",
    "version": 3
   },
   "file_extension": ".py",
   "mimetype": "text/x-python",
   "name": "python",
   "nbconvert_exporter": "python",
   "pygments_lexer": "ipython3",
   "version": "3.11.4"
  }
 },
 "nbformat": 4,
 "nbformat_minor": 5
}
